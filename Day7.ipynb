{
 "cells": [
  {
   "cell_type": "code",
   "execution_count": 2,
   "id": "1f78776f",
   "metadata": {},
   "outputs": [
    {
     "name": "stdout",
     "output_type": "stream",
     "text": [
      "339321\n"
     ]
    }
   ],
   "source": [
    "with open('input7.txt') as f:\n",
    "    lines = f.read().splitlines()\n",
    "\n",
    "crabs = lines[0].split(',')\n",
    "crabs = [int(k) for k in crabs]\n",
    "\n",
    "curmin = 10 ** 100\n",
    "\n",
    "for i in range(2000):\n",
    "    cost = sum([abs(c - i) for c in crabs])\n",
    "    curmin = min(curmin, cost)\n",
    "\n",
    "print(curmin)"
   ]
  },
  {
   "cell_type": "code",
   "execution_count": 4,
   "id": "d6acf3d0",
   "metadata": {},
   "outputs": [
    {
     "name": "stdout",
     "output_type": "stream",
     "text": [
      "95476244\n"
     ]
    }
   ],
   "source": [
    "with open('input7.txt') as f:\n",
    "    lines = f.read().splitlines()\n",
    "\n",
    "crabs = lines[0].split(',')\n",
    "crabs = [int(k) for k in crabs]\n",
    "\n",
    "curmin = 10 ** 100\n",
    "\n",
    "for i in range(2000):\n",
    "    cost = sum([abs(c - i) * (abs(c - i) + 1) // 2 for c in crabs])\n",
    "    curmin = min(curmin, cost)\n",
    "\n",
    "print(curmin)"
   ]
  },
  {
   "cell_type": "code",
   "execution_count": null,
   "id": "285ea935",
   "metadata": {},
   "outputs": [],
   "source": []
  }
 ],
 "metadata": {
  "kernelspec": {
   "display_name": "Python 3 (ipykernel)",
   "language": "python",
   "name": "python3"
  },
  "language_info": {
   "codemirror_mode": {
    "name": "ipython",
    "version": 3
   },
   "file_extension": ".py",
   "mimetype": "text/x-python",
   "name": "python",
   "nbconvert_exporter": "python",
   "pygments_lexer": "ipython3",
   "version": "3.10.2"
  }
 },
 "nbformat": 4,
 "nbformat_minor": 5
}
