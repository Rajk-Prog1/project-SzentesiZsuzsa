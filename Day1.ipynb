{
 "cells": [
  {
   "cell_type": "code",
   "execution_count": 29,
   "id": "609fb3ee",
   "metadata": {},
   "outputs": [
    {
     "name": "stdout",
     "output_type": "stream",
     "text": [
      "1759\n",
      "2000\n"
     ]
    }
   ],
   "source": [
    "#AoC Day1/1\n",
    "\n",
    "numbers = []\n",
    "\n",
    "with open('input.txt', 'r') as f:\n",
    "    for line in f:\n",
    "        numbers.append(int(line))\n",
    "        \n",
    "counter = 0\n",
    "for i in range(1,len(numbers)):\n",
    "    if numbers[i] > numbers[i-1]:\n",
    "        counter = counter+1\n",
    "\n",
    "print(counter)\n",
    "print(len(numbers))"
   ]
  },
  {
   "cell_type": "code",
   "execution_count": 11,
   "id": "872b81cb",
   "metadata": {},
   "outputs": [
    {
     "name": "stdout",
     "output_type": "stream",
     "text": [
      "1805\n"
     ]
    }
   ],
   "source": [
    "#AoC Day1/2\n",
    "\n",
    "window_counter = 0\n",
    "for i in range(0,len(numbers)-3):\n",
    "    a = numbers[i]+numbers[i+1]+numbers[i+2]\n",
    "    b = numbers[i+1]+numbers[i+2]+numbers[i+3]\n",
    "    if b > a:\n",
    "        window_counter = window_counter+1\n",
    "        \n",
    "print(window_counter)"
   ]
  },
  {
   "cell_type": "code",
   "execution_count": null,
   "id": "b3c49e6a",
   "metadata": {},
   "outputs": [],
   "source": []
  }
 ],
 "metadata": {
  "kernelspec": {
   "display_name": "Python 3 (ipykernel)",
   "language": "python",
   "name": "python3"
  },
  "language_info": {
   "codemirror_mode": {
    "name": "ipython",
    "version": 3
   },
   "file_extension": ".py",
   "mimetype": "text/x-python",
   "name": "python",
   "nbconvert_exporter": "python",
   "pygments_lexer": "ipython3",
   "version": "3.10.2"
  }
 },
 "nbformat": 4,
 "nbformat_minor": 5
}
