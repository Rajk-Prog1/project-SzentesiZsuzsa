{
 "cells": [
  {
   "cell_type": "code",
   "execution_count": 1,
   "id": "433e42a4",
   "metadata": {},
   "outputs": [
    {
     "name": "stdout",
     "output_type": "stream",
     "text": [
      "1850\n",
      "927\n",
      "1714950\n"
     ]
    }
   ],
   "source": [
    "#AoC Day2/1\n",
    "\n",
    "horizontal = 0\n",
    "depth = 0\n",
    "\n",
    "with open('input2.txt', 'r') as f:\n",
    "    for line in f:\n",
    "        line = line.rstrip()\n",
    "        parts = line.split(' ')\n",
    "        command = parts[0]\n",
    "        value = int(parts[1])\n",
    "        if command == 'forward':\n",
    "            horizontal = horizontal+value\n",
    "        elif command == 'down':\n",
    "            depth = depth+value\n",
    "        elif command == 'up':\n",
    "            depth = depth-value\n",
    "        else:\n",
    "            print('invalid command')\n",
    "        \n",
    "print(horizontal)\n",
    "print(depth)\n",
    "print(horizontal*depth)"
   ]
  },
  {
   "cell_type": "code",
   "execution_count": 2,
   "id": "5ebcc8ae",
   "metadata": {},
   "outputs": [
    {
     "name": "stdout",
     "output_type": "stream",
     "text": [
      "1281977850\n"
     ]
    }
   ],
   "source": [
    "#AoC Day2/2\n",
    "\n",
    "with open('input2.txt', 'r') as f:\n",
    "    lines = f.read().splitlines()\n",
    "\n",
    "    x, y = 0, 0\n",
    "    aim = 0\n",
    "\n",
    "    for i in lines:\n",
    "        splitted = i.split()\n",
    "\n",
    "        if splitted[0] == 'forward':\n",
    "            x += int(splitted[1])\n",
    "            y += aim*int(splitted[1])\n",
    "        elif splitted[0] == 'up':\n",
    "            aim -= int(splitted[1])\n",
    "        elif splitted[0] == 'down':\n",
    "            aim += int(splitted[1])\n",
    "\n",
    "    print(x*y)"
   ]
  },
  {
   "cell_type": "code",
   "execution_count": null,
   "id": "f118f83e",
   "metadata": {},
   "outputs": [],
   "source": []
  }
 ],
 "metadata": {
  "kernelspec": {
   "display_name": "Python 3 (ipykernel)",
   "language": "python",
   "name": "python3"
  },
  "language_info": {
   "codemirror_mode": {
    "name": "ipython",
    "version": 3
   },
   "file_extension": ".py",
   "mimetype": "text/x-python",
   "name": "python",
   "nbconvert_exporter": "python",
   "pygments_lexer": "ipython3",
   "version": "3.10.2"
  }
 },
 "nbformat": 4,
 "nbformat_minor": 5
}
