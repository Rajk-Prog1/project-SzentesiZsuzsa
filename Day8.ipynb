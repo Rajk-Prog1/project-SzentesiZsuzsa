{
 "cells": [
  {
   "cell_type": "code",
   "execution_count": 2,
   "id": "694b0f61",
   "metadata": {},
   "outputs": [
    {
     "name": "stdout",
     "output_type": "stream",
     "text": [
      "237\n"
     ]
    }
   ],
   "source": [
    "#AoC2021 Day8/1\n",
    "\n",
    "with open('input8.txt') as f:\n",
    "    lines = f.read().splitlines()\n",
    "\n",
    "s = 0\n",
    "\n",
    "for line in lines:\n",
    "    uniq, out = line.split(' | ')\n",
    "    uniq = uniq.split()\n",
    "    out = out.split()\n",
    "    \n",
    "    for c in out:\n",
    "        if len(c) == 7 or len(c) == 4 or len(c) == 2 or len(c) == 3:\n",
    "            s += 1\n",
    "\n",
    "print(s)"
   ]
  },
  {
   "cell_type": "code",
   "execution_count": 6,
   "id": "7e185a74",
   "metadata": {},
   "outputs": [
    {
     "name": "stdout",
     "output_type": "stream",
     "text": [
      "1009098\n"
     ]
    }
   ],
   "source": [
    "#Aoc2021 Day8/2\n",
    "    \n",
    "with open('input8.txt') as f:\n",
    "    lines = f.read().splitlines()\n",
    "\n",
    "r2 = 0\n",
    "for signal, output in zip(signals, outputs):\n",
    "    mapping = ['' for i in range(10)]\n",
    "    signal = sorted(signal, key=len)\n",
    "    for i in signal:\n",
    "        if   len(i) == 2: mapping[1] = i\n",
    "        elif len(i) == 3: mapping[7] = i\n",
    "        elif len(i) == 4: mapping[4] = i\n",
    "        elif len(i) == 5:\n",
    "            if   all([c in i for c in mapping[1]]): mapping[3] = i\n",
    "            elif sum([c in i for c in mapping[4]]) == 3: mapping[5] = i\n",
    "            else: mapping[2] = i\n",
    "        elif len(i) == 6:\n",
    "            if   all([c in i for c in mapping[4]]): mapping[9] = i\n",
    "            elif all([c in i for c in mapping[7]]): mapping[0] = i\n",
    "            else: mapping[6] = i\n",
    "        else: mapping[8] = i\n",
    "\n",
    "    output_number = 0\n",
    "    for j, n in enumerate(output[::-1]):\n",
    "        for i in range(10):\n",
    "            if all([c in n for c in mapping[i]]) and len(mapping[i]) == len(n):\n",
    "                output_number += i * 10 ** j\n",
    "                break\n",
    "\n",
    "    r2 += int(output_number)\n",
    "\n",
    "print(r2)"
   ]
  },
  {
   "cell_type": "code",
   "execution_count": null,
   "id": "d0097b17",
   "metadata": {},
   "outputs": [],
   "source": []
  }
 ],
 "metadata": {
  "kernelspec": {
   "display_name": "Python 3 (ipykernel)",
   "language": "python",
   "name": "python3"
  },
  "language_info": {
   "codemirror_mode": {
    "name": "ipython",
    "version": 3
   },
   "file_extension": ".py",
   "mimetype": "text/x-python",
   "name": "python",
   "nbconvert_exporter": "python",
   "pygments_lexer": "ipython3",
   "version": "3.10.2"
  }
 },
 "nbformat": 4,
 "nbformat_minor": 5
}
