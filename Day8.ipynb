{
 "cells": [
  {
   "cell_type": "code",
   "execution_count": 2,
   "id": "694b0f61",
   "metadata": {},
   "outputs": [
    {
     "name": "stdout",
     "output_type": "stream",
     "text": [
      "237\n"
     ]
    }
   ],
   "source": [
    "#AoC2021 Day8/1\n",
    "\n",
    "with open('input8.txt') as f:\n",
    "    lines = f.read().splitlines()\n",
    "\n",
    "s = 0\n",
    "\n",
    "for line in lines:\n",
    "    uniq, out = line.split(' | ')\n",
    "    uniq = uniq.split()\n",
    "    out = out.split()\n",
    "    \n",
    "    for c in out:\n",
    "        if len(c) == 7 or len(c) == 4 or len(c) == 2 or len(c) == 3:\n",
    "            s += 1\n",
    "\n",
    "print(s)"
   ]
  },
  {
   "cell_type": "code",
   "execution_count": 11,
   "id": "7e185a74",
   "metadata": {},
   "outputs": [],
   "source": [
    "#Aoc2021 Day8/2\n",
    "    \n",
    "with open('input8.txt') as f:\n",
    "    lines = f.read().splitlines()\n",
    "\n",
    "    \n",
    "def decode(inputs):\n",
    "    maps = [set()] * 10 \n",
    "\n",
    "    for pattern in inputs:\n",
    "        if len(pattern) == 2:     \n",
    "            maps[1] = set(pattern)\n",
    "        elif len(pattern) == 3:      \n",
    "            maps[7] = set(pattern)\n",
    "        elif len(pattern) == 4:     \n",
    "            maps[4] = set(pattern)\n",
    "        elif len(pattern) == 7:      \n",
    "            maps[8] = set(pattern)\n",
    "\n",
    "    \n",
    "    for pattern in inputs:\n",
    "        if len(pattern) == 6:\n",
    "            if len(maps[1] - set(pattern)) == 1:  \n",
    "                maps[6] = set(pattern)\n",
    "            elif len(maps[4] - set(pattern)) == 0: \n",
    "                maps[9] = set(pattern)\n",
    "            elif len(maps[4] - set(pattern)) != 0: \n",
    "                maps[0] = set(pattern)\n",
    "\n",
    "    \n",
    "    for pattern in inputs:\n",
    "        if len(pattern) == 5:\n",
    "            if len(maps[1] - set(pattern)) == 0: \n",
    "                maps[3] = set(pattern)\n",
    "            elif len(set(pattern) - maps[6]) == 0: \n",
    "                maps[5] = set(pattern)\n",
    "            elif len(set(pattern) - maps[6]) == 1: \n",
    "                maps[2] = set(pattern)\n",
    "    \n",
    "    return maps\n",
    "\n",
    "def calc(maps,output):\n",
    "    \n",
    "    s = ''\n",
    "    for num in output:\n",
    "        s += str(maps.index(set(num.strip()))) \n",
    "    total = int(s)\n",
    "    return total\n",
    "\n",
    "\n",
    "def part2(data):\n",
    "    total = 0\n",
    "    for r in data:\n",
    "        inputs, outputs = split_data(r) \n",
    "        maps = decode(inputs) \n",
    "        total += calc(maps, outputs) \n",
    "    print(\"Part 2:\", total)\n",
    "    \n"
   ]
  },
  {
   "cell_type": "code",
   "execution_count": null,
   "id": "93b71938",
   "metadata": {},
   "outputs": [],
   "source": []
  }
 ],
 "metadata": {
  "kernelspec": {
   "display_name": "Python 3 (ipykernel)",
   "language": "python",
   "name": "python3"
  },
  "language_info": {
   "codemirror_mode": {
    "name": "ipython",
    "version": 3
   },
   "file_extension": ".py",
   "mimetype": "text/x-python",
   "name": "python",
   "nbconvert_exporter": "python",
   "pygments_lexer": "ipython3",
   "version": "3.10.2"
  }
 },
 "nbformat": 4,
 "nbformat_minor": 5
}
