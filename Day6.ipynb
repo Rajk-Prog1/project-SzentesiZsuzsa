{
 "cells": [
  {
   "cell_type": "code",
   "execution_count": 1,
   "id": "7a2430a5",
   "metadata": {},
   "outputs": [
    {
     "name": "stdout",
     "output_type": "stream",
     "text": [
      "362639\n"
     ]
    }
   ],
   "source": [
    "#AoC Day6/1\n",
    "\n",
    "with open('input6.txt') as f:\n",
    "    numbers = list(map(int, f.readline().strip().split(',')))\n",
    "\n",
    "    for day in range(80):\n",
    "        for i in range(len(numbers)):\n",
    "            counter = numbers[i]\n",
    "            if counter >= 1:\n",
    "                numbers[i] = counter - 1\n",
    "            else:\n",
    "                numbers[i] = 6\n",
    "                numbers.append(8)\n",
    "print(len(numbers))"
   ]
  },
  {
   "cell_type": "code",
   "execution_count": null,
   "id": "1dfcef4a",
   "metadata": {},
   "outputs": [],
   "source": []
  }
 ],
 "metadata": {
  "kernelspec": {
   "display_name": "Python 3 (ipykernel)",
   "language": "python",
   "name": "python3"
  },
  "language_info": {
   "codemirror_mode": {
    "name": "ipython",
    "version": 3
   },
   "file_extension": ".py",
   "mimetype": "text/x-python",
   "name": "python",
   "nbconvert_exporter": "python",
   "pygments_lexer": "ipython3",
   "version": "3.10.2"
  }
 },
 "nbformat": 4,
 "nbformat_minor": 5
}
