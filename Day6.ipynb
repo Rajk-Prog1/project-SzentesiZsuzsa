{
 "cells": [
  {
   "cell_type": "code",
   "execution_count": 1,
   "id": "7a2430a5",
   "metadata": {},
   "outputs": [
    {
     "name": "stdout",
     "output_type": "stream",
     "text": [
      "362639\n"
     ]
    }
   ],
   "source": [
    "#AoC Day6/1\n",
    "\n",
    "with open('input6.txt') as f:\n",
    "    numbers = list(map(int, f.readline().strip().split(',')))\n",
    "\n",
    "    for day in range(80):\n",
    "        for i in range(len(numbers)):\n",
    "            counter = numbers[i]\n",
    "            if counter >= 1:\n",
    "                numbers[i] = counter - 1\n",
    "            else:\n",
    "                numbers[i] = 6\n",
    "                numbers.append(8)\n",
    "print(len(numbers))"
   ]
  },
  {
   "cell_type": "code",
   "execution_count": 2,
   "id": "1dfcef4a",
   "metadata": {},
   "outputs": [
    {
     "name": "stdout",
     "output_type": "stream",
     "text": [
      "1639854996917\n"
     ]
    }
   ],
   "source": [
    "#AoC Day6/2\n",
    "\n",
    "with open('input6.txt') as f:\n",
    "    lines = f.read().splitlines()\n",
    "\n",
    "states = lines[0].split(',')\n",
    "states = [int(k) for k in states]\n",
    "\n",
    "cnt = [0] * 9\n",
    "\n",
    "for s in states:\n",
    "    cnt[s] += 1\n",
    "\n",
    "for i in range(256):\n",
    "    new_fish = cnt[0]\n",
    "\n",
    "    for a in range(0, 8):\n",
    "        cnt[a] = cnt[a + 1]\n",
    "\n",
    "    cnt[8] = new_fish\n",
    "    cnt[6] += new_fish\n",
    "\n",
    "print(sum(cnt))"
   ]
  },
  {
   "cell_type": "code",
   "execution_count": null,
   "id": "cfd1d8d1",
   "metadata": {},
   "outputs": [],
   "source": []
  }
 ],
 "metadata": {
  "kernelspec": {
   "display_name": "Python 3 (ipykernel)",
   "language": "python",
   "name": "python3"
  },
  "language_info": {
   "codemirror_mode": {
    "name": "ipython",
    "version": 3
   },
   "file_extension": ".py",
   "mimetype": "text/x-python",
   "name": "python",
   "nbconvert_exporter": "python",
   "pygments_lexer": "ipython3",
   "version": "3.10.2"
  }
 },
 "nbformat": 4,
 "nbformat_minor": 5
}
