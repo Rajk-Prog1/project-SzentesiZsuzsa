{
 "cells": [
  {
   "cell_type": "code",
   "execution_count": 2,
   "id": "2191b202",
   "metadata": {},
   "outputs": [
    {
     "name": "stdout",
     "output_type": "stream",
     "text": [
      "3901196\n"
     ]
    }
   ],
   "source": [
    "#AoC Day3/1\n",
    "\n",
    "with open('input3.txt') as f:\n",
    "    lines = f.read().splitlines()\n",
    "\n",
    "most = ''\n",
    "least = ''\n",
    "\n",
    "for i in range(len(lines[0])):\n",
    "    cnt1 = 0\n",
    "    cnt0 = 0\n",
    "    for line in lines:\n",
    "        if line[i] == '0':\n",
    "            cnt0 += 1\n",
    "        else:\n",
    "            cnt1 += 1\n",
    "\n",
    "    if cnt1 > cnt0:\n",
    "        most += '1'\n",
    "        least += '0'\n",
    "    else:\n",
    "        most += '0'\n",
    "        least += '1'\n",
    "\n",
    "print(int(most, 2) * int(least, 2))"
   ]
  },
  {
   "cell_type": "code",
   "execution_count": 3,
   "id": "9b866e48",
   "metadata": {},
   "outputs": [
    {
     "name": "stdout",
     "output_type": "stream",
     "text": [
      "4412188\n"
     ]
    }
   ],
   "source": [
    "with open('input3.txt') as f:\n",
    "    lines = f.read().splitlines()\n",
    "\n",
    "most_common = lines\n",
    "least_common = lines\n",
    "\n",
    "for i in range(len(most_common[0])):\n",
    "    cnt0 = 0\n",
    "    cnt1 = 0\n",
    "\n",
    "    for line in most_common:\n",
    "        if line[i] == '0':\n",
    "            cnt0 += 1\n",
    "        else:\n",
    "            cnt1 += 1\n",
    "\n",
    "    if cnt1 >= cnt0:\n",
    "        c = '1'\n",
    "    else:\n",
    "        c = '0'\n",
    "\n",
    "    most_common = [line for line in most_common if line[i] == c]\n",
    "\n",
    "    cnt0 = 0\n",
    "    cnt1 = 0\n",
    "\n",
    "    for line in least_common:\n",
    "        if line[i] == '0':\n",
    "            cnt0 += 1\n",
    "        else:\n",
    "            cnt1 += 1\n",
    "\n",
    "    if cnt0 == 0:\n",
    "        c = '1'\n",
    "    elif cnt1 == 0 or cnt0 <= cnt1:\n",
    "        c = '0'\n",
    "    else:\n",
    "        c = '1'\n",
    "\n",
    "    # filter out values that don't have the correct character\n",
    "    least_common = [line for line in least_common if line[i] == c]\n",
    "\n",
    "print(int(least_common[0], 2) * int(most_common[0], 2))"
   ]
  },
  {
   "cell_type": "code",
   "execution_count": null,
   "id": "e93c52b7",
   "metadata": {},
   "outputs": [],
   "source": []
  }
 ],
 "metadata": {
  "kernelspec": {
   "display_name": "Python 3 (ipykernel)",
   "language": "python",
   "name": "python3"
  },
  "language_info": {
   "codemirror_mode": {
    "name": "ipython",
    "version": 3
   },
   "file_extension": ".py",
   "mimetype": "text/x-python",
   "name": "python",
   "nbconvert_exporter": "python",
   "pygments_lexer": "ipython3",
   "version": "3.10.2"
  }
 },
 "nbformat": 4,
 "nbformat_minor": 5
}
