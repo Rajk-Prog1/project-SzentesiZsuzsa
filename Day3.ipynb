{
 "cells": [
  {
   "cell_type": "code",
   "execution_count": 3,
   "id": "2191b202",
   "metadata": {},
   "outputs": [
    {
     "name": "stdout",
     "output_type": "stream",
     "text": [
      "3901196\n"
     ]
    }
   ],
   "source": [
    "#AoC Day3/1\n",
    "\n",
    "bits = []\n",
    "\n",
    "with open('input3.txt') as f:\n",
    "    lines = f.read().splitlines()\n",
    "\n",
    "    for i in range(12):\n",
    "        bitsString = ''\n",
    "        for line in lines:\n",
    "            bitsString += line[i]\n",
    "        bits.append(bitsString)\n",
    "\n",
    "gammaBits = ''\n",
    "epsilonBits = ''\n",
    "for b in bits:\n",
    "    if b.count('1') > b.count('0'):\n",
    "        gammaBits += '1'\n",
    "        epsilonBits += '0'\n",
    "    else:\n",
    "        gammaBits += '0'\n",
    "        epsilonBits += '1'\n",
    "\n",
    "gamma = int(gammaBits, 2)\n",
    "epsilon = int(epsilonBits, 2)\n",
    "\n",
    "\n",
    "print(gamma * epsilon)"
   ]
  },
  {
   "cell_type": "code",
   "execution_count": null,
   "id": "9b866e48",
   "metadata": {},
   "outputs": [],
   "source": []
  }
 ],
 "metadata": {
  "kernelspec": {
   "display_name": "Python 3 (ipykernel)",
   "language": "python",
   "name": "python3"
  },
  "language_info": {
   "codemirror_mode": {
    "name": "ipython",
    "version": 3
   },
   "file_extension": ".py",
   "mimetype": "text/x-python",
   "name": "python",
   "nbconvert_exporter": "python",
   "pygments_lexer": "ipython3",
   "version": "3.10.2"
  }
 },
 "nbformat": 4,
 "nbformat_minor": 5
}
