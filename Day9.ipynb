{
 "cells": [
  {
   "cell_type": "code",
   "execution_count": 4,
   "id": "676d785e",
   "metadata": {},
   "outputs": [
    {
     "name": "stdout",
     "output_type": "stream",
     "text": [
      "580\n"
     ]
    }
   ],
   "source": [
    "board = []\n",
    "risk_sum = 0\n",
    "\n",
    "def is_low_point(board,row, column):\n",
    "    value = board[row][column]\n",
    "    if row>0 and board[row-1][column]<= value:\n",
    "        return False\n",
    "    elif row<len(board)-1 and board[row+1][column]<= value:\n",
    "        return False\n",
    "    elif column>0 and board[row][column-1]<= value:\n",
    "        return False\n",
    "    elif column<len(board[0])-1 and board[row][column+1]<= value:\n",
    "        return False\n",
    "    return True\n",
    "        \n",
    "\n",
    "with open('input9.txt', 'r') as f:\n",
    "    for line in f:\n",
    "        line = line.rstrip()\n",
    "        row = []\n",
    "        for c in line:\n",
    "            row.append(int(c))\n",
    "        board.append(row)\n",
    "\n",
    "for i in range(0,len(board)):\n",
    "    for j in range(0,len(board[0])):\n",
    "        if is_low_point(board,i,j):\n",
    "            risk_sum = risk_sum+board[i][j]+1\n",
    "            \n",
    "print(risk_sum)\n",
    "        "
   ]
  },
  {
   "cell_type": "code",
   "execution_count": 3,
   "id": "f83a60e0",
   "metadata": {},
   "outputs": [
    {
     "name": "stdout",
     "output_type": "stream",
     "text": [
      "856716\n"
     ]
    }
   ],
   "source": [
    "with open('input9.txt', 'r') as f:\n",
    "    lines = f.read().splitlines()\n",
    "\n",
    "height_map = {}\n",
    "for y, row in enumerate(lines):\n",
    "    for x, height in enumerate(row):\n",
    "        height_map[(x, y)] = int(height)\n",
    "\n",
    "low_points = []\n",
    "sum = 0\n",
    "for coords, height in height_map.items():\n",
    "    x, y = coords\n",
    "    neighbours = ((x + 1, y), (x - 1, y), (x, y + 1), (x, y - 1))\n",
    "    lowest = True\n",
    "    for neighbour in neighbours:\n",
    "        if height_map.get(neighbour, 10) <= height:\n",
    "            lowest = False\n",
    "            break\n",
    "\n",
    "    if lowest:\n",
    "        low_points.append(coords)\n",
    "        sum += height + 1\n",
    "\n",
    "basin_sizes = []\n",
    "for low_point in low_points:\n",
    "    part_of_basin = set([low_point])\n",
    "\n",
    "    coords_to_check_stack = [low_point]\n",
    "    while coords_to_check_stack:\n",
    "        x, y = coords_to_check_stack.pop()\n",
    "        adjacent = ((x + 1, y), (x - 1, y), (x, y + 1), (x, y - 1))\n",
    "        for neighbour in adjacent:\n",
    "            neighbour_height = height_map.get(neighbour, 0)\n",
    "            if neighbour_height > height_map[(x, y)] and neighbour_height != 9:\n",
    "                part_of_basin.add(neighbour)\n",
    "                coords_to_check_stack.append(neighbour)\n",
    "\n",
    "    basin_sizes.append(len(part_of_basin))\n",
    "\n",
    "basin_sizes.sort(reverse=True)\n",
    "\n",
    "largest_three_product = 1\n",
    "for size in basin_sizes[:3]:\n",
    "    largest_three_product *= size\n",
    "\n",
    "print(largest_three_product)"
   ]
  },
  {
   "cell_type": "code",
   "execution_count": null,
   "id": "48d30db4",
   "metadata": {},
   "outputs": [],
   "source": []
  }
 ],
 "metadata": {
  "kernelspec": {
   "display_name": "Python 3 (ipykernel)",
   "language": "python",
   "name": "python3"
  },
  "language_info": {
   "codemirror_mode": {
    "name": "ipython",
    "version": 3
   },
   "file_extension": ".py",
   "mimetype": "text/x-python",
   "name": "python",
   "nbconvert_exporter": "python",
   "pygments_lexer": "ipython3",
   "version": "3.10.2"
  }
 },
 "nbformat": 4,
 "nbformat_minor": 5
}
